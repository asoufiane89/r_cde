{
 "cells": [
  {
   "cell_type": "code",
   "execution_count": 1,
   "metadata": {},
   "outputs": [
    {
     "name": "stderr",
     "output_type": "stream",
     "text": [
      "Loading required package: DBI\n"
     ]
    }
   ],
   "source": [
    "Sys.setenv(JAVA_HOME = \"/usr/lib/jvm/default-java\")\n",
    "library(\"rJava\")\n",
    "library(\"RJDBC\")\n",
    "library(\"data.table\")\n",
    "library(\"ggplot2\")\n"
   ]
  },
  {
   "cell_type": "code",
   "execution_count": 2,
   "metadata": {},
   "outputs": [],
   "source": [
    "conn <- dbConnect(JDBC(\"com.amazon.redshift.jdbc41.Driver\",\n",
    "                       \n",
    "                       \"/home/ubuntu/R_code/RedshiftJDBC41-1.2.16.1027.jar\"),\n",
    "                  \n",
    "                  \"jdbc:redshift://fba-analysis.c5g1ihldokmx.us-east-1.redshift.amazonaws.com:8192/monster?loglevel=3&ssl=true&sslfactory=org.postgresql.ssl.NonValidatingFactory&tcpKeepAlive=true\",\n",
    "                  \"fba_pricing\",\n",
    "                  \"\")"
   ]
  },
  {
   "cell_type": "code",
   "execution_count": 3,
   "metadata": {},
   "outputs": [],
   "source": [
    "data_pull_test <-  dbGetQuery(conn, \"select * \n",
    "                              from fba_pricing.mj_details_v3 \n",
    "                              where out_shipped_weekly_avg>0\n",
    "                              and out_shipped_weekly_avg<1001\n",
    "                              limit 100\")"
   ]
  },
  {
   "cell_type": "code",
   "execution_count": 4,
   "metadata": {},
   "outputs": [
    {
     "name": "stdout",
     "output_type": "stream",
     "text": [
      "     marketplace_id merchant_customer_id       asin out_shipped_weekly_avg\n",
      "  1:              1            109607890 B00MWEK0P2                   6.44\n",
      "  2:              1            109656730 B00AUKE0RO                   0.03\n",
      "  3:              1            109847287 B004XGBMB8                   0.06\n",
      "  4:              1            110321581 B011SG5Q58                   9.35\n",
      "  5:              1            110414366 B01LBL66KY                   0.10\n",
      " ---                                                                      \n",
      " 96:              1            110587436 B003TT5UQ8                   8.88\n",
      " 97:              1            110587436 B003UCEWKE                   0.16\n",
      " 98:              1            110587436 B003VMXKTW                   1.69\n",
      " 99:              1            110587436 B003VTLOQQ                   0.41\n",
      "100:              1            110587436 B003WECB5S                   6.50\n",
      "     inbounded_units_weekly_avg avg_daily_inv   asp gl_product_group_desc\n",
      "  1:                       3.00         11.94 24.21             gl_sports\n",
      "  2:                       0.00          4.52 29.03             gl_camera\n",
      "  3:                       0.00         10.74 29.83            gl_kitchen\n",
      "  4:                      11.23         40.48 10.84               gl_biss\n",
      "  5:                       0.15          2.20 25.49             gl_sports\n",
      " ---                                                                     \n",
      " 96:                      13.75         44.17 16.39             gl_beauty\n",
      " 97:                       0.58          5.19 22.29            gl_grocery\n",
      " 98:                       1.69         10.31 25.27            gl_grocery\n",
      " 99:                       0.89         21.78 25.41            gl_grocery\n",
      "100:                       0.00        100.54 21.95            gl_grocery\n",
      "       it_l  it_w  it_h weight seller_origin      seller_size asin_age_days\n",
      "  1: 12.100 3.700 3.100  0.400            US        c. $250k+           310\n",
      "  2:  3.858 3.701 3.228  0.705            US        c. $250k+          1011\n",
      "  3:  9.700 5.800 4.400  2.900            US        c. $250k+           835\n",
      "  4:  9.500 4.500 1.500  0.700            US        c. $250k+           626\n",
      "  5:  8.431 6.572 1.522  0.208            US b. $10k to $250K           167\n",
      " ---                                                                       \n",
      " 96: 10.600 8.200 0.300  0.250            US        c. $250k+           165\n",
      " 97:  8.000 3.600 2.700  0.750            US        c. $250k+           617\n",
      " 98: 11.960 8.769 7.353  3.713            US        c. $250k+           876\n",
      " 99:  9.900 5.100 4.200  3.250            US        c. $250k+           567\n",
      "100: 10.600 6.600 4.800  4.650            US        c. $250k+          1640\n",
      "                   sizeband\n",
      "  1:  2. Large Standard 1lb\n",
      "  2:  2. Large Standard 1lb\n",
      "  3: 4. Large Standard 2lb+\n",
      "  4:  2. Large Standard 1lb\n",
      "  5:  2. Large Standard 1lb\n",
      " ---                       \n",
      " 96:      1. Small Standard\n",
      " 97:  2. Large Standard 1lb\n",
      " 98: 4. Large Standard 2lb+\n",
      " 99: 4. Large Standard 2lb+\n",
      "100: 4. Large Standard 2lb+\n"
     ]
    }
   ],
   "source": [
    "setDT(data_pull_test)\n",
    "print(data_pull_test, topn = 5)"
   ]
  },
  {
   "cell_type": "code",
   "execution_count": null,
   "metadata": {},
   "outputs": [],
   "source": []
  }
 ],
 "metadata": {
  "kernelspec": {
   "display_name": "R",
   "language": "R",
   "name": "ir"
  },
  "language_info": {
   "codemirror_mode": "r",
   "file_extension": ".r",
   "mimetype": "text/x-r-source",
   "name": "R",
   "pygments_lexer": "r",
   "version": "3.5.1"
  }
 },
 "nbformat": 4,
 "nbformat_minor": 2
}
